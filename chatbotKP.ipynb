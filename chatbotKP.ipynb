{
  "nbformat": 4,
  "nbformat_minor": 0,
  "metadata": {
    "colab": {
      "provenance": []
    },
    "kernelspec": {
      "name": "python3",
      "display_name": "Python 3"
    },
    "language_info": {
      "name": "python"
    }
  },
  "cells": [
    {
      "cell_type": "code",
      "execution_count": null,
      "metadata": {
        "id": "U-N8XEoWt9YZ"
      },
      "outputs": [],
      "source": [
        "import nltk\n",
        "from nltk.stem import WordNetLemmatizer\n",
        "lemmatizer = WordNetLemmatizer()\n",
        "import json\n",
        "import pickle\n",
        "import warnings\n",
        "warnings.filterwarnings('ignore')\n",
        "import numpy as np\n",
        "import tensorflow as tf\n",
        "from keras.models import Sequential\n",
        "from keras.layers import Dense, Activation, Dropout\n",
        "from tensorflow.keras.optimizers import SGD\n",
        "from tensorflow.python.framework import ops\n",
        "ops.reset_default_graph()\n",
        "from tensorflow.keras.models import load_model\n",
        "import random"
      ]
    },
    {
      "cell_type": "code",
      "source": [
        "nltk.download('punkt')#Sentence tokenizer"
      ],
      "metadata": {
        "colab": {
          "base_uri": "https://localhost:8080/"
        },
        "id": "WvJJWnF4uKHl",
        "outputId": "1a4e1dda-3533-477d-d72e-5a2bea53f174"
      },
      "execution_count": null,
      "outputs": [
        {
          "output_type": "stream",
          "name": "stderr",
          "text": [
            "[nltk_data] Downloading package punkt to /root/nltk_data...\n",
            "[nltk_data]   Package punkt is already up-to-date!\n"
          ]
        },
        {
          "output_type": "execute_result",
          "data": {
            "text/plain": [
              "True"
            ]
          },
          "metadata": {},
          "execution_count": 23
        }
      ]
    },
    {
      "cell_type": "code",
      "source": [
        "nltk.download('wordnet')"
      ],
      "metadata": {
        "colab": {
          "base_uri": "https://localhost:8080/"
        },
        "id": "TCz558BqvqLE",
        "outputId": "cfde3f2a-4ff8-4fc9-e595-59039d6f166e"
      },
      "execution_count": null,
      "outputs": [
        {
          "output_type": "stream",
          "name": "stderr",
          "text": [
            "[nltk_data] Downloading package wordnet to /root/nltk_data...\n",
            "[nltk_data]   Package wordnet is already up-to-date!\n"
          ]
        },
        {
          "output_type": "execute_result",
          "data": {
            "text/plain": [
              "True"
            ]
          },
          "metadata": {},
          "execution_count": 24
        }
      ]
    },
    {
      "cell_type": "code",
      "source": [
        "nltk.download('omw-1.4')"
      ],
      "metadata": {
        "colab": {
          "base_uri": "https://localhost:8080/"
        },
        "id": "7FVjdDHLvr3E",
        "outputId": "8f594d7b-2ef6-488f-9e00-6cfea9c4f35e"
      },
      "execution_count": null,
      "outputs": [
        {
          "output_type": "stream",
          "name": "stderr",
          "text": [
            "[nltk_data] Downloading package omw-1.4 to /root/nltk_data...\n",
            "[nltk_data]   Package omw-1.4 is already up-to-date!\n"
          ]
        },
        {
          "output_type": "execute_result",
          "data": {
            "text/plain": [
              "True"
            ]
          },
          "metadata": {},
          "execution_count": 25
        }
      ]
    },
    {
      "cell_type": "code",
      "source": [
        "keywords = []\n",
        "classes_list = []\n",
        "documents_list = []\n",
        "ignore = ['?', '!']\n",
        "file_content = open('intents.json').read()\n",
        "intents_data = json.loads(file_content)"
      ],
      "metadata": {
        "id": "ZGumjUwuuP_9"
      },
      "execution_count": null,
      "outputs": []
    },
    {
      "cell_type": "code",
      "source": [
        "for intent_data in intents_data['intents']:\n",
        "    patterns = intent_data['patterns']\n",
        "    tag = intent_data['tag']\n",
        "\n",
        "    for pattern in patterns:\n",
        "        word_tokens = nltk.word_tokenize(pattern)\n",
        "        keywords.extend(word_tokens)\n",
        "        documents_list.append((word_tokens, tag))\n",
        "\n",
        "    if tag not in classes_list:\n",
        "        classes_list.append(tag)\n",
        "\n",
        "keywords = [lemmatizer.lemmatize(word.lower()) for word in keywords if word not in ignore]"
      ],
      "metadata": {
        "id": "q32oN2IdvQto"
      },
      "execution_count": null,
      "outputs": []
    },
    {
      "cell_type": "code",
      "source": [
        "keywords = sorted(list(set(keywords)))\n",
        "classes_list = sorted(list(set(classes_list)))"
      ],
      "metadata": {
        "id": "nw22g1zrwNLz"
      },
      "execution_count": null,
      "outputs": []
    },
    {
      "cell_type": "code",
      "source": [
        "print(\"Keywords = \",len(keywords))\n",
        "print(\"List of Class = \",len(classes_list))\n",
        "print(\"List of Documents = \", len(documents_list))"
      ],
      "metadata": {
        "colab": {
          "base_uri": "https://localhost:8080/"
        },
        "id": "DyuWFE0gwgic",
        "outputId": "6734fb13-7281-42ea-e2df-94c10f3abb5a"
      },
      "execution_count": null,
      "outputs": [
        {
          "output_type": "stream",
          "name": "stdout",
          "text": [
            "Keywords =  421\n",
            "List of Class =  38\n",
            "List of Documents =  313\n"
          ]
        }
      ]
    },
    {
      "cell_type": "code",
      "source": [
        "pickle.dump(keywords,open('words.pkl','wb'))\n",
        "pickle.dump(classes_list,open('classes.pkl','wb'))"
      ],
      "metadata": {
        "id": "-Hh6TIDNyEgT"
      },
      "execution_count": null,
      "outputs": []
    },
    {
      "cell_type": "code",
      "source": [
        "data_training = []\n",
        "empty_output = [0] * len(classes_list)\n",
        "\n",
        "for documents in documents_list:\n",
        "  bag_of_words = []\n",
        "  patterns_of_words = documents [0]\n",
        "  patterns_of_words = [lemmatizer.lemmatize(word.lower()) for word in patterns_of_words]\n",
        "\n",
        "  for word in keywords:\n",
        "      if word in patterns_of_words:\n",
        "          bag_of_words.append(1)\n",
        "      else:\n",
        "          bag_of_words.append(0)\n",
        "\n",
        "  row_output = list(empty_output)\n",
        "  row_output[classes_list.index(documents[1])] = 1\n",
        "\n",
        "  data_training.append([bag_of_words, row_output])"
      ],
      "metadata": {
        "id": "Qdo8CDfCy1Po"
      },
      "execution_count": null,
      "outputs": []
    },
    {
      "cell_type": "code",
      "source": [
        "random.shuffle(data_training)"
      ],
      "metadata": {
        "id": "YqWizN7S0JeL"
      },
      "execution_count": null,
      "outputs": []
    },
    {
      "cell_type": "code",
      "source": [
        "training_bags = np.array([item[0] for item in data_training])\n",
        "train_features = np.array([item[1] for item in data_training])\n",
        "\n",
        "training_data = np.hstack((training_bags, train_features))"
      ],
      "metadata": {
        "id": "5vJlN9iv0bhH"
      },
      "execution_count": null,
      "outputs": []
    },
    {
      "cell_type": "code",
      "source": [
        "from sklearn.model_selection import train_test_split\n",
        "\n",
        "train_input = [data[:len(keywords)] for data in training_data]\n",
        "train_output = [data[len(keywords):] for data in training_data]\n",
        "\n",
        "train_input, test_input, train_output, test_output = train_test_split(train_input, train_output, test_size=0.2, random_state=42)"
      ],
      "metadata": {
        "id": "INcWCd7L0sIm"
      },
      "execution_count": null,
      "outputs": []
    },
    {
      "cell_type": "code",
      "source": [
        "model = Sequential()\n",
        "model.add(Dense(128, input_shape=(len(train_input[0]),), activation='relu'))\n",
        "model.add(Dropout(0.5))\n",
        "model.add(Dense(64, activation='relu'))\n",
        "model.add(Dropout(0.5))\n",
        "model.add(Dense(len(train_output[0]), activation='softmax'))\n",
        "\n",
        "model.compile(loss='categorical_crossentropy', optimizer='adam', metrics=['accuracy'])\n",
        "\n",
        "history = model.fit(np.array(train_input), np.array(train_output), epochs=250, batch_size=5, verbose=1)"
      ],
      "metadata": {
        "colab": {
          "base_uri": "https://localhost:8080/"
        },
        "id": "si8Tcozx1KH-",
        "outputId": "0157b10f-0a0e-4e77-e4a4-fbe377123579"
      },
      "execution_count": null,
      "outputs": [
        {
          "output_type": "stream",
          "name": "stdout",
          "text": [
            "Epoch 1/250\n",
            "50/50 [==============================] - 2s 3ms/step - loss: 3.6503 - accuracy: 0.0280\n",
            "Epoch 2/250\n",
            "50/50 [==============================] - 0s 3ms/step - loss: 3.5855 - accuracy: 0.0600\n",
            "Epoch 3/250\n",
            "50/50 [==============================] - 0s 3ms/step - loss: 3.4742 - accuracy: 0.1440\n",
            "Epoch 4/250\n",
            "50/50 [==============================] - 0s 3ms/step - loss: 3.3432 - accuracy: 0.1760\n",
            "Epoch 5/250\n",
            "50/50 [==============================] - 0s 3ms/step - loss: 3.1035 - accuracy: 0.2400\n",
            "Epoch 6/250\n",
            "50/50 [==============================] - 0s 3ms/step - loss: 2.8928 - accuracy: 0.2840\n",
            "Epoch 7/250\n",
            "50/50 [==============================] - 0s 2ms/step - loss: 2.6455 - accuracy: 0.3640\n",
            "Epoch 8/250\n",
            "50/50 [==============================] - 0s 2ms/step - loss: 2.5591 - accuracy: 0.3760\n",
            "Epoch 9/250\n",
            "50/50 [==============================] - 0s 2ms/step - loss: 2.3255 - accuracy: 0.3960\n",
            "Epoch 10/250\n",
            "50/50 [==============================] - 0s 2ms/step - loss: 2.0822 - accuracy: 0.4520\n",
            "Epoch 11/250\n",
            "50/50 [==============================] - 0s 2ms/step - loss: 1.9331 - accuracy: 0.4920\n",
            "Epoch 12/250\n",
            "50/50 [==============================] - 0s 2ms/step - loss: 1.7416 - accuracy: 0.5640\n",
            "Epoch 13/250\n",
            "50/50 [==============================] - 0s 2ms/step - loss: 1.6221 - accuracy: 0.5720\n",
            "Epoch 14/250\n",
            "50/50 [==============================] - 0s 2ms/step - loss: 1.5453 - accuracy: 0.6040\n",
            "Epoch 15/250\n",
            "50/50 [==============================] - 0s 2ms/step - loss: 1.4425 - accuracy: 0.6320\n",
            "Epoch 16/250\n",
            "50/50 [==============================] - 0s 2ms/step - loss: 1.2670 - accuracy: 0.6800\n",
            "Epoch 17/250\n",
            "50/50 [==============================] - 0s 2ms/step - loss: 1.1692 - accuracy: 0.7080\n",
            "Epoch 18/250\n",
            "50/50 [==============================] - 0s 2ms/step - loss: 1.1859 - accuracy: 0.7000\n",
            "Epoch 19/250\n",
            "50/50 [==============================] - 0s 2ms/step - loss: 0.9961 - accuracy: 0.7440\n",
            "Epoch 20/250\n",
            "50/50 [==============================] - 0s 2ms/step - loss: 1.0552 - accuracy: 0.7120\n",
            "Epoch 21/250\n",
            "50/50 [==============================] - 0s 2ms/step - loss: 0.9245 - accuracy: 0.7800\n",
            "Epoch 22/250\n",
            "50/50 [==============================] - 0s 2ms/step - loss: 0.8635 - accuracy: 0.7760\n",
            "Epoch 23/250\n",
            "50/50 [==============================] - 0s 2ms/step - loss: 0.8347 - accuracy: 0.8000\n",
            "Epoch 24/250\n",
            "50/50 [==============================] - 0s 2ms/step - loss: 0.7760 - accuracy: 0.8080\n",
            "Epoch 25/250\n",
            "50/50 [==============================] - 0s 2ms/step - loss: 0.7941 - accuracy: 0.7880\n",
            "Epoch 26/250\n",
            "50/50 [==============================] - 0s 2ms/step - loss: 0.7020 - accuracy: 0.8240\n",
            "Epoch 27/250\n",
            "50/50 [==============================] - 0s 2ms/step - loss: 0.7056 - accuracy: 0.8080\n",
            "Epoch 28/250\n",
            "50/50 [==============================] - 0s 2ms/step - loss: 0.6914 - accuracy: 0.8240\n",
            "Epoch 29/250\n",
            "50/50 [==============================] - 0s 2ms/step - loss: 0.4960 - accuracy: 0.8800\n",
            "Epoch 30/250\n",
            "50/50 [==============================] - 0s 2ms/step - loss: 0.5962 - accuracy: 0.8320\n",
            "Epoch 31/250\n",
            "50/50 [==============================] - 0s 2ms/step - loss: 0.5868 - accuracy: 0.8240\n",
            "Epoch 32/250\n",
            "50/50 [==============================] - 0s 2ms/step - loss: 0.5394 - accuracy: 0.8800\n",
            "Epoch 33/250\n",
            "50/50 [==============================] - 0s 2ms/step - loss: 0.5136 - accuracy: 0.8720\n",
            "Epoch 34/250\n",
            "50/50 [==============================] - 0s 2ms/step - loss: 0.5652 - accuracy: 0.8520\n",
            "Epoch 35/250\n",
            "50/50 [==============================] - 0s 2ms/step - loss: 0.4594 - accuracy: 0.8840\n",
            "Epoch 36/250\n",
            "50/50 [==============================] - 0s 2ms/step - loss: 0.5372 - accuracy: 0.8400\n",
            "Epoch 37/250\n",
            "50/50 [==============================] - 0s 2ms/step - loss: 0.4861 - accuracy: 0.8680\n",
            "Epoch 38/250\n",
            "50/50 [==============================] - 0s 2ms/step - loss: 0.4210 - accuracy: 0.8680\n",
            "Epoch 39/250\n",
            "50/50 [==============================] - 0s 2ms/step - loss: 0.3736 - accuracy: 0.9200\n",
            "Epoch 40/250\n",
            "50/50 [==============================] - 0s 2ms/step - loss: 0.4191 - accuracy: 0.8920\n",
            "Epoch 41/250\n",
            "50/50 [==============================] - 0s 2ms/step - loss: 0.3563 - accuracy: 0.9160\n",
            "Epoch 42/250\n",
            "50/50 [==============================] - 0s 2ms/step - loss: 0.2894 - accuracy: 0.9280\n",
            "Epoch 43/250\n",
            "50/50 [==============================] - 0s 2ms/step - loss: 0.4315 - accuracy: 0.8800\n",
            "Epoch 44/250\n",
            "50/50 [==============================] - 0s 2ms/step - loss: 0.3011 - accuracy: 0.9440\n",
            "Epoch 45/250\n",
            "50/50 [==============================] - 0s 2ms/step - loss: 0.3578 - accuracy: 0.9080\n",
            "Epoch 46/250\n",
            "50/50 [==============================] - 0s 2ms/step - loss: 0.3267 - accuracy: 0.9240\n",
            "Epoch 47/250\n",
            "50/50 [==============================] - 0s 2ms/step - loss: 0.3775 - accuracy: 0.8840\n",
            "Epoch 48/250\n",
            "50/50 [==============================] - 0s 2ms/step - loss: 0.2996 - accuracy: 0.9200\n",
            "Epoch 49/250\n",
            "50/50 [==============================] - 0s 2ms/step - loss: 0.2928 - accuracy: 0.9320\n",
            "Epoch 50/250\n",
            "50/50 [==============================] - 0s 2ms/step - loss: 0.3525 - accuracy: 0.9080\n",
            "Epoch 51/250\n",
            "50/50 [==============================] - 0s 2ms/step - loss: 0.3357 - accuracy: 0.9000\n",
            "Epoch 52/250\n",
            "50/50 [==============================] - 0s 2ms/step - loss: 0.3505 - accuracy: 0.9000\n",
            "Epoch 53/250\n",
            "50/50 [==============================] - 0s 2ms/step - loss: 0.2874 - accuracy: 0.9360\n",
            "Epoch 54/250\n",
            "50/50 [==============================] - 0s 2ms/step - loss: 0.3141 - accuracy: 0.9160\n",
            "Epoch 55/250\n",
            "50/50 [==============================] - 0s 2ms/step - loss: 0.1874 - accuracy: 0.9480\n",
            "Epoch 56/250\n",
            "50/50 [==============================] - 0s 2ms/step - loss: 0.2692 - accuracy: 0.9360\n",
            "Epoch 57/250\n",
            "50/50 [==============================] - 0s 2ms/step - loss: 0.2304 - accuracy: 0.9600\n",
            "Epoch 58/250\n",
            "50/50 [==============================] - 0s 2ms/step - loss: 0.2910 - accuracy: 0.9240\n",
            "Epoch 59/250\n",
            "50/50 [==============================] - 0s 2ms/step - loss: 0.2182 - accuracy: 0.9440\n",
            "Epoch 60/250\n",
            "50/50 [==============================] - 0s 2ms/step - loss: 0.2022 - accuracy: 0.9560\n",
            "Epoch 61/250\n",
            "50/50 [==============================] - 0s 2ms/step - loss: 0.2522 - accuracy: 0.9280\n",
            "Epoch 62/250\n",
            "50/50 [==============================] - 0s 2ms/step - loss: 0.2696 - accuracy: 0.9280\n",
            "Epoch 63/250\n",
            "50/50 [==============================] - 0s 2ms/step - loss: 0.2422 - accuracy: 0.9320\n",
            "Epoch 64/250\n",
            "50/50 [==============================] - 0s 2ms/step - loss: 0.2552 - accuracy: 0.9280\n",
            "Epoch 65/250\n",
            "50/50 [==============================] - 0s 2ms/step - loss: 0.2024 - accuracy: 0.9480\n",
            "Epoch 66/250\n",
            "50/50 [==============================] - 0s 2ms/step - loss: 0.1747 - accuracy: 0.9640\n",
            "Epoch 67/250\n",
            "50/50 [==============================] - 0s 2ms/step - loss: 0.1833 - accuracy: 0.9520\n",
            "Epoch 68/250\n",
            "50/50 [==============================] - 0s 2ms/step - loss: 0.1388 - accuracy: 0.9720\n",
            "Epoch 69/250\n",
            "50/50 [==============================] - 0s 2ms/step - loss: 0.2065 - accuracy: 0.9400\n",
            "Epoch 70/250\n",
            "50/50 [==============================] - 0s 2ms/step - loss: 0.2109 - accuracy: 0.9520\n",
            "Epoch 71/250\n",
            "50/50 [==============================] - 0s 2ms/step - loss: 0.2374 - accuracy: 0.9280\n",
            "Epoch 72/250\n",
            "50/50 [==============================] - 0s 2ms/step - loss: 0.1450 - accuracy: 0.9760\n",
            "Epoch 73/250\n",
            "50/50 [==============================] - 0s 2ms/step - loss: 0.1920 - accuracy: 0.9600\n",
            "Epoch 74/250\n",
            "50/50 [==============================] - 0s 2ms/step - loss: 0.1608 - accuracy: 0.9720\n",
            "Epoch 75/250\n",
            "50/50 [==============================] - 0s 2ms/step - loss: 0.1616 - accuracy: 0.9640\n",
            "Epoch 76/250\n",
            "50/50 [==============================] - 0s 2ms/step - loss: 0.1747 - accuracy: 0.9520\n",
            "Epoch 77/250\n",
            "50/50 [==============================] - 0s 2ms/step - loss: 0.1929 - accuracy: 0.9400\n",
            "Epoch 78/250\n",
            "50/50 [==============================] - 0s 2ms/step - loss: 0.1221 - accuracy: 0.9720\n",
            "Epoch 79/250\n",
            "50/50 [==============================] - 0s 2ms/step - loss: 0.1786 - accuracy: 0.9520\n",
            "Epoch 80/250\n",
            "50/50 [==============================] - 0s 2ms/step - loss: 0.1957 - accuracy: 0.9440\n",
            "Epoch 81/250\n",
            "50/50 [==============================] - 0s 2ms/step - loss: 0.1202 - accuracy: 0.9800\n",
            "Epoch 82/250\n",
            "50/50 [==============================] - 0s 2ms/step - loss: 0.0875 - accuracy: 0.9800\n",
            "Epoch 83/250\n",
            "50/50 [==============================] - 0s 2ms/step - loss: 0.1491 - accuracy: 0.9600\n",
            "Epoch 84/250\n",
            "50/50 [==============================] - 0s 2ms/step - loss: 0.1956 - accuracy: 0.9360\n",
            "Epoch 85/250\n",
            "50/50 [==============================] - 0s 2ms/step - loss: 0.1983 - accuracy: 0.9520\n",
            "Epoch 86/250\n",
            "50/50 [==============================] - 0s 2ms/step - loss: 0.1470 - accuracy: 0.9640\n",
            "Epoch 87/250\n",
            "50/50 [==============================] - 0s 2ms/step - loss: 0.1254 - accuracy: 0.9680\n",
            "Epoch 88/250\n",
            "50/50 [==============================] - 0s 2ms/step - loss: 0.1455 - accuracy: 0.9560\n",
            "Epoch 89/250\n",
            "50/50 [==============================] - 0s 2ms/step - loss: 0.1398 - accuracy: 0.9600\n",
            "Epoch 90/250\n",
            "50/50 [==============================] - 0s 2ms/step - loss: 0.1862 - accuracy: 0.9440\n",
            "Epoch 91/250\n",
            "50/50 [==============================] - 0s 2ms/step - loss: 0.1204 - accuracy: 0.9640\n",
            "Epoch 92/250\n",
            "50/50 [==============================] - 0s 2ms/step - loss: 0.1792 - accuracy: 0.9560\n",
            "Epoch 93/250\n",
            "50/50 [==============================] - 0s 2ms/step - loss: 0.1183 - accuracy: 0.9800\n",
            "Epoch 94/250\n",
            "50/50 [==============================] - 0s 2ms/step - loss: 0.1579 - accuracy: 0.9600\n",
            "Epoch 95/250\n",
            "50/50 [==============================] - 0s 2ms/step - loss: 0.1082 - accuracy: 0.9680\n",
            "Epoch 96/250\n",
            "50/50 [==============================] - 0s 2ms/step - loss: 0.1459 - accuracy: 0.9600\n",
            "Epoch 97/250\n",
            "50/50 [==============================] - 0s 2ms/step - loss: 0.1340 - accuracy: 0.9520\n",
            "Epoch 98/250\n",
            "50/50 [==============================] - 0s 2ms/step - loss: 0.1667 - accuracy: 0.9400\n",
            "Epoch 99/250\n",
            "50/50 [==============================] - 0s 2ms/step - loss: 0.1305 - accuracy: 0.9360\n",
            "Epoch 100/250\n",
            "50/50 [==============================] - 0s 2ms/step - loss: 0.1144 - accuracy: 0.9680\n",
            "Epoch 101/250\n",
            "50/50 [==============================] - 0s 3ms/step - loss: 0.1434 - accuracy: 0.9600\n",
            "Epoch 102/250\n",
            "50/50 [==============================] - 0s 3ms/step - loss: 0.1048 - accuracy: 0.9680\n",
            "Epoch 103/250\n",
            "50/50 [==============================] - 0s 3ms/step - loss: 0.0946 - accuracy: 0.9760\n",
            "Epoch 104/250\n",
            "50/50 [==============================] - 0s 3ms/step - loss: 0.1455 - accuracy: 0.9560\n",
            "Epoch 105/250\n",
            "50/50 [==============================] - 0s 3ms/step - loss: 0.0957 - accuracy: 0.9680\n",
            "Epoch 106/250\n",
            "50/50 [==============================] - 0s 3ms/step - loss: 0.1432 - accuracy: 0.9480\n",
            "Epoch 107/250\n",
            "50/50 [==============================] - 0s 3ms/step - loss: 0.1387 - accuracy: 0.9560\n",
            "Epoch 108/250\n",
            "50/50 [==============================] - 0s 3ms/step - loss: 0.1387 - accuracy: 0.9520\n",
            "Epoch 109/250\n",
            "50/50 [==============================] - 0s 3ms/step - loss: 0.1089 - accuracy: 0.9640\n",
            "Epoch 110/250\n",
            "50/50 [==============================] - 0s 3ms/step - loss: 0.1341 - accuracy: 0.9560\n",
            "Epoch 111/250\n",
            "50/50 [==============================] - 0s 3ms/step - loss: 0.1185 - accuracy: 0.9600\n",
            "Epoch 112/250\n",
            "50/50 [==============================] - 0s 3ms/step - loss: 0.1466 - accuracy: 0.9560\n",
            "Epoch 113/250\n",
            "50/50 [==============================] - 0s 3ms/step - loss: 0.1100 - accuracy: 0.9800\n",
            "Epoch 114/250\n",
            "50/50 [==============================] - 0s 3ms/step - loss: 0.0975 - accuracy: 0.9840\n",
            "Epoch 115/250\n",
            "50/50 [==============================] - 0s 3ms/step - loss: 0.0897 - accuracy: 0.9760\n",
            "Epoch 116/250\n",
            "50/50 [==============================] - 0s 3ms/step - loss: 0.1256 - accuracy: 0.9680\n",
            "Epoch 117/250\n",
            "50/50 [==============================] - 0s 3ms/step - loss: 0.1049 - accuracy: 0.9600\n",
            "Epoch 118/250\n",
            "50/50 [==============================] - 0s 3ms/step - loss: 0.1376 - accuracy: 0.9560\n",
            "Epoch 119/250\n",
            "50/50 [==============================] - 0s 2ms/step - loss: 0.0807 - accuracy: 0.9800\n",
            "Epoch 120/250\n",
            "50/50 [==============================] - 0s 2ms/step - loss: 0.0909 - accuracy: 0.9720\n",
            "Epoch 121/250\n",
            "50/50 [==============================] - 0s 2ms/step - loss: 0.1033 - accuracy: 0.9680\n",
            "Epoch 122/250\n",
            "50/50 [==============================] - 0s 2ms/step - loss: 0.1251 - accuracy: 0.9720\n",
            "Epoch 123/250\n",
            "50/50 [==============================] - 0s 2ms/step - loss: 0.1097 - accuracy: 0.9520\n",
            "Epoch 124/250\n",
            "50/50 [==============================] - 0s 2ms/step - loss: 0.0866 - accuracy: 0.9800\n",
            "Epoch 125/250\n",
            "50/50 [==============================] - 0s 2ms/step - loss: 0.0927 - accuracy: 0.9680\n",
            "Epoch 126/250\n",
            "50/50 [==============================] - 0s 2ms/step - loss: 0.0953 - accuracy: 0.9720\n",
            "Epoch 127/250\n",
            "50/50 [==============================] - 0s 2ms/step - loss: 0.1370 - accuracy: 0.9600\n",
            "Epoch 128/250\n",
            "50/50 [==============================] - 0s 2ms/step - loss: 0.0985 - accuracy: 0.9680\n",
            "Epoch 129/250\n",
            "50/50 [==============================] - 0s 2ms/step - loss: 0.0919 - accuracy: 0.9760\n",
            "Epoch 130/250\n",
            "50/50 [==============================] - 0s 2ms/step - loss: 0.1281 - accuracy: 0.9600\n",
            "Epoch 131/250\n",
            "50/50 [==============================] - 0s 2ms/step - loss: 0.1128 - accuracy: 0.9720\n",
            "Epoch 132/250\n",
            "50/50 [==============================] - 0s 2ms/step - loss: 0.1074 - accuracy: 0.9640\n",
            "Epoch 133/250\n",
            "50/50 [==============================] - 0s 2ms/step - loss: 0.1242 - accuracy: 0.9640\n",
            "Epoch 134/250\n",
            "50/50 [==============================] - 0s 2ms/step - loss: 0.0740 - accuracy: 0.9880\n",
            "Epoch 135/250\n",
            "50/50 [==============================] - 0s 2ms/step - loss: 0.1143 - accuracy: 0.9560\n",
            "Epoch 136/250\n",
            "50/50 [==============================] - 0s 2ms/step - loss: 0.0957 - accuracy: 0.9560\n",
            "Epoch 137/250\n",
            "50/50 [==============================] - 0s 2ms/step - loss: 0.1567 - accuracy: 0.9320\n",
            "Epoch 138/250\n",
            "50/50 [==============================] - 0s 2ms/step - loss: 0.0910 - accuracy: 0.9760\n",
            "Epoch 139/250\n",
            "50/50 [==============================] - 0s 2ms/step - loss: 0.1007 - accuracy: 0.9800\n",
            "Epoch 140/250\n",
            "50/50 [==============================] - 0s 2ms/step - loss: 0.0887 - accuracy: 0.9720\n",
            "Epoch 141/250\n",
            "50/50 [==============================] - 0s 2ms/step - loss: 0.0814 - accuracy: 0.9840\n",
            "Epoch 142/250\n",
            "50/50 [==============================] - 0s 2ms/step - loss: 0.1152 - accuracy: 0.9520\n",
            "Epoch 143/250\n",
            "50/50 [==============================] - 0s 2ms/step - loss: 0.1107 - accuracy: 0.9800\n",
            "Epoch 144/250\n",
            "50/50 [==============================] - 0s 2ms/step - loss: 0.1312 - accuracy: 0.9560\n",
            "Epoch 145/250\n",
            "50/50 [==============================] - 0s 2ms/step - loss: 0.0732 - accuracy: 0.9840\n",
            "Epoch 146/250\n",
            "50/50 [==============================] - 0s 2ms/step - loss: 0.0512 - accuracy: 0.9840\n",
            "Epoch 147/250\n",
            "50/50 [==============================] - 0s 2ms/step - loss: 0.1039 - accuracy: 0.9600\n",
            "Epoch 148/250\n",
            "50/50 [==============================] - 0s 2ms/step - loss: 0.1176 - accuracy: 0.9560\n",
            "Epoch 149/250\n",
            "50/50 [==============================] - 0s 2ms/step - loss: 0.1077 - accuracy: 0.9680\n",
            "Epoch 150/250\n",
            "50/50 [==============================] - 0s 2ms/step - loss: 0.0644 - accuracy: 0.9840\n",
            "Epoch 151/250\n",
            "50/50 [==============================] - 0s 2ms/step - loss: 0.0738 - accuracy: 0.9720\n",
            "Epoch 152/250\n",
            "50/50 [==============================] - 0s 2ms/step - loss: 0.1294 - accuracy: 0.9520\n",
            "Epoch 153/250\n",
            "50/50 [==============================] - 0s 2ms/step - loss: 0.0817 - accuracy: 0.9680\n",
            "Epoch 154/250\n",
            "50/50 [==============================] - 0s 2ms/step - loss: 0.0587 - accuracy: 0.9920\n",
            "Epoch 155/250\n",
            "50/50 [==============================] - 0s 2ms/step - loss: 0.0760 - accuracy: 0.9840\n",
            "Epoch 156/250\n",
            "50/50 [==============================] - 0s 2ms/step - loss: 0.1088 - accuracy: 0.9680\n",
            "Epoch 157/250\n",
            "50/50 [==============================] - 0s 2ms/step - loss: 0.0969 - accuracy: 0.9760\n",
            "Epoch 158/250\n",
            "50/50 [==============================] - 0s 2ms/step - loss: 0.0930 - accuracy: 0.9640\n",
            "Epoch 159/250\n",
            "50/50 [==============================] - 0s 2ms/step - loss: 0.0911 - accuracy: 0.9560\n",
            "Epoch 160/250\n",
            "50/50 [==============================] - 0s 2ms/step - loss: 0.0663 - accuracy: 0.9800\n",
            "Epoch 161/250\n",
            "50/50 [==============================] - 0s 2ms/step - loss: 0.0814 - accuracy: 0.9800\n",
            "Epoch 162/250\n",
            "50/50 [==============================] - 0s 2ms/step - loss: 0.0862 - accuracy: 0.9680\n",
            "Epoch 163/250\n",
            "50/50 [==============================] - 0s 2ms/step - loss: 0.1014 - accuracy: 0.9760\n",
            "Epoch 164/250\n",
            "50/50 [==============================] - 0s 2ms/step - loss: 0.0576 - accuracy: 0.9840\n",
            "Epoch 165/250\n",
            "50/50 [==============================] - 0s 2ms/step - loss: 0.0719 - accuracy: 0.9800\n",
            "Epoch 166/250\n",
            "50/50 [==============================] - 0s 2ms/step - loss: 0.0725 - accuracy: 0.9760\n",
            "Epoch 167/250\n",
            "50/50 [==============================] - 0s 2ms/step - loss: 0.0458 - accuracy: 0.9960\n",
            "Epoch 168/250\n",
            "50/50 [==============================] - 0s 2ms/step - loss: 0.1057 - accuracy: 0.9760\n",
            "Epoch 169/250\n",
            "50/50 [==============================] - 0s 2ms/step - loss: 0.0922 - accuracy: 0.9680\n",
            "Epoch 170/250\n",
            "50/50 [==============================] - 0s 2ms/step - loss: 0.0918 - accuracy: 0.9800\n",
            "Epoch 171/250\n",
            "50/50 [==============================] - 0s 2ms/step - loss: 0.0942 - accuracy: 0.9560\n",
            "Epoch 172/250\n",
            "50/50 [==============================] - 0s 2ms/step - loss: 0.0921 - accuracy: 0.9720\n",
            "Epoch 173/250\n",
            "50/50 [==============================] - 0s 2ms/step - loss: 0.0598 - accuracy: 0.9880\n",
            "Epoch 174/250\n",
            "50/50 [==============================] - 0s 2ms/step - loss: 0.0902 - accuracy: 0.9720\n",
            "Epoch 175/250\n",
            "50/50 [==============================] - 0s 2ms/step - loss: 0.0521 - accuracy: 0.9800\n",
            "Epoch 176/250\n",
            "50/50 [==============================] - 0s 2ms/step - loss: 0.0781 - accuracy: 0.9800\n",
            "Epoch 177/250\n",
            "50/50 [==============================] - 0s 2ms/step - loss: 0.0994 - accuracy: 0.9600\n",
            "Epoch 178/250\n",
            "50/50 [==============================] - 0s 2ms/step - loss: 0.0663 - accuracy: 0.9800\n",
            "Epoch 179/250\n",
            "50/50 [==============================] - 0s 2ms/step - loss: 0.0832 - accuracy: 0.9760\n",
            "Epoch 180/250\n",
            "50/50 [==============================] - 0s 2ms/step - loss: 0.0776 - accuracy: 0.9800\n",
            "Epoch 181/250\n",
            "50/50 [==============================] - 0s 2ms/step - loss: 0.0661 - accuracy: 0.9840\n",
            "Epoch 182/250\n",
            "50/50 [==============================] - 0s 2ms/step - loss: 0.0539 - accuracy: 0.9840\n",
            "Epoch 183/250\n",
            "50/50 [==============================] - 0s 2ms/step - loss: 0.0496 - accuracy: 0.9800\n",
            "Epoch 184/250\n",
            "50/50 [==============================] - 0s 2ms/step - loss: 0.0838 - accuracy: 0.9840\n",
            "Epoch 185/250\n",
            "50/50 [==============================] - 0s 2ms/step - loss: 0.0914 - accuracy: 0.9720\n",
            "Epoch 186/250\n",
            "50/50 [==============================] - 0s 2ms/step - loss: 0.0706 - accuracy: 0.9720\n",
            "Epoch 187/250\n",
            "50/50 [==============================] - 0s 2ms/step - loss: 0.1089 - accuracy: 0.9600\n",
            "Epoch 188/250\n",
            "50/50 [==============================] - 0s 2ms/step - loss: 0.0750 - accuracy: 0.9760\n",
            "Epoch 189/250\n",
            "50/50 [==============================] - 0s 2ms/step - loss: 0.0658 - accuracy: 0.9800\n",
            "Epoch 190/250\n",
            "50/50 [==============================] - 0s 2ms/step - loss: 0.0366 - accuracy: 0.9920\n",
            "Epoch 191/250\n",
            "50/50 [==============================] - 0s 2ms/step - loss: 0.0787 - accuracy: 0.9800\n",
            "Epoch 192/250\n",
            "50/50 [==============================] - 0s 2ms/step - loss: 0.0530 - accuracy: 0.9800\n",
            "Epoch 193/250\n",
            "50/50 [==============================] - 0s 2ms/step - loss: 0.0780 - accuracy: 0.9760\n",
            "Epoch 194/250\n",
            "50/50 [==============================] - 0s 2ms/step - loss: 0.0731 - accuracy: 0.9720\n",
            "Epoch 195/250\n",
            "50/50 [==============================] - 0s 2ms/step - loss: 0.0856 - accuracy: 0.9680\n",
            "Epoch 196/250\n",
            "50/50 [==============================] - 0s 2ms/step - loss: 0.0839 - accuracy: 0.9720\n",
            "Epoch 197/250\n",
            "50/50 [==============================] - 0s 2ms/step - loss: 0.0801 - accuracy: 0.9640\n",
            "Epoch 198/250\n",
            "50/50 [==============================] - 0s 2ms/step - loss: 0.0651 - accuracy: 0.9840\n",
            "Epoch 199/250\n",
            "50/50 [==============================] - 0s 2ms/step - loss: 0.0977 - accuracy: 0.9600\n",
            "Epoch 200/250\n",
            "50/50 [==============================] - 0s 2ms/step - loss: 0.0560 - accuracy: 0.9920\n",
            "Epoch 201/250\n",
            "50/50 [==============================] - 0s 2ms/step - loss: 0.0834 - accuracy: 0.9680\n",
            "Epoch 202/250\n",
            "50/50 [==============================] - 0s 2ms/step - loss: 0.0788 - accuracy: 0.9680\n",
            "Epoch 203/250\n",
            "50/50 [==============================] - 0s 2ms/step - loss: 0.0830 - accuracy: 0.9720\n",
            "Epoch 204/250\n",
            "50/50 [==============================] - 0s 2ms/step - loss: 0.0949 - accuracy: 0.9680\n",
            "Epoch 205/250\n",
            "50/50 [==============================] - 0s 2ms/step - loss: 0.0842 - accuracy: 0.9680\n",
            "Epoch 206/250\n",
            "50/50 [==============================] - 0s 2ms/step - loss: 0.0685 - accuracy: 0.9800\n",
            "Epoch 207/250\n",
            "50/50 [==============================] - 0s 2ms/step - loss: 0.0411 - accuracy: 0.9880\n",
            "Epoch 208/250\n",
            "50/50 [==============================] - 0s 2ms/step - loss: 0.0495 - accuracy: 0.9880\n",
            "Epoch 209/250\n",
            "50/50 [==============================] - 0s 2ms/step - loss: 0.0408 - accuracy: 0.9880\n",
            "Epoch 210/250\n",
            "50/50 [==============================] - 0s 3ms/step - loss: 0.0942 - accuracy: 0.9720\n",
            "Epoch 211/250\n",
            "50/50 [==============================] - 0s 3ms/step - loss: 0.0386 - accuracy: 0.9880\n",
            "Epoch 212/250\n",
            "50/50 [==============================] - 0s 3ms/step - loss: 0.0485 - accuracy: 0.9840\n",
            "Epoch 213/250\n",
            "50/50 [==============================] - 0s 3ms/step - loss: 0.0583 - accuracy: 0.9880\n",
            "Epoch 214/250\n",
            "50/50 [==============================] - 0s 3ms/step - loss: 0.0943 - accuracy: 0.9800\n",
            "Epoch 215/250\n",
            "50/50 [==============================] - 0s 3ms/step - loss: 0.0715 - accuracy: 0.9800\n",
            "Epoch 216/250\n",
            "50/50 [==============================] - 0s 3ms/step - loss: 0.0465 - accuracy: 0.9880\n",
            "Epoch 217/250\n",
            "50/50 [==============================] - 0s 3ms/step - loss: 0.1043 - accuracy: 0.9680\n",
            "Epoch 218/250\n",
            "50/50 [==============================] - 0s 3ms/step - loss: 0.1123 - accuracy: 0.9640\n",
            "Epoch 219/250\n",
            "50/50 [==============================] - 0s 3ms/step - loss: 0.0370 - accuracy: 0.9920\n",
            "Epoch 220/250\n",
            "50/50 [==============================] - 0s 3ms/step - loss: 0.0721 - accuracy: 0.9800\n",
            "Epoch 221/250\n",
            "50/50 [==============================] - 0s 3ms/step - loss: 0.0468 - accuracy: 0.9840\n",
            "Epoch 222/250\n",
            "50/50 [==============================] - 0s 3ms/step - loss: 0.0764 - accuracy: 0.9680\n",
            "Epoch 223/250\n",
            "50/50 [==============================] - 0s 3ms/step - loss: 0.0475 - accuracy: 0.9920\n",
            "Epoch 224/250\n",
            "50/50 [==============================] - 0s 3ms/step - loss: 0.0464 - accuracy: 0.9880\n",
            "Epoch 225/250\n",
            "50/50 [==============================] - 0s 3ms/step - loss: 0.0775 - accuracy: 0.9800\n",
            "Epoch 226/250\n",
            "50/50 [==============================] - 0s 3ms/step - loss: 0.0412 - accuracy: 0.9840\n",
            "Epoch 227/250\n",
            "50/50 [==============================] - 0s 3ms/step - loss: 0.0459 - accuracy: 0.9840\n",
            "Epoch 228/250\n",
            "50/50 [==============================] - 0s 3ms/step - loss: 0.0786 - accuracy: 0.9720\n",
            "Epoch 229/250\n",
            "50/50 [==============================] - 0s 3ms/step - loss: 0.0661 - accuracy: 0.9800\n",
            "Epoch 230/250\n",
            "50/50 [==============================] - 0s 2ms/step - loss: 0.0544 - accuracy: 0.9720\n",
            "Epoch 231/250\n",
            "50/50 [==============================] - 0s 3ms/step - loss: 0.0342 - accuracy: 0.9920\n",
            "Epoch 232/250\n",
            "50/50 [==============================] - 0s 2ms/step - loss: 0.0430 - accuracy: 0.9800\n",
            "Epoch 233/250\n",
            "50/50 [==============================] - 0s 2ms/step - loss: 0.0589 - accuracy: 0.9880\n",
            "Epoch 234/250\n",
            "50/50 [==============================] - 0s 2ms/step - loss: 0.0533 - accuracy: 0.9840\n",
            "Epoch 235/250\n",
            "50/50 [==============================] - 0s 2ms/step - loss: 0.0567 - accuracy: 0.9800\n",
            "Epoch 236/250\n",
            "50/50 [==============================] - 0s 2ms/step - loss: 0.0761 - accuracy: 0.9680\n",
            "Epoch 237/250\n",
            "50/50 [==============================] - 0s 2ms/step - loss: 0.0641 - accuracy: 0.9800\n",
            "Epoch 238/250\n",
            "50/50 [==============================] - 0s 2ms/step - loss: 0.0984 - accuracy: 0.9640\n",
            "Epoch 239/250\n",
            "50/50 [==============================] - 0s 2ms/step - loss: 0.0702 - accuracy: 0.9720\n",
            "Epoch 240/250\n",
            "50/50 [==============================] - 0s 2ms/step - loss: 0.0613 - accuracy: 0.9800\n",
            "Epoch 241/250\n",
            "50/50 [==============================] - 0s 2ms/step - loss: 0.0814 - accuracy: 0.9720\n",
            "Epoch 242/250\n",
            "50/50 [==============================] - 0s 2ms/step - loss: 0.0368 - accuracy: 0.9920\n",
            "Epoch 243/250\n",
            "50/50 [==============================] - 0s 2ms/step - loss: 0.0611 - accuracy: 0.9840\n",
            "Epoch 244/250\n",
            "50/50 [==============================] - 0s 2ms/step - loss: 0.0829 - accuracy: 0.9680\n",
            "Epoch 245/250\n",
            "50/50 [==============================] - 0s 2ms/step - loss: 0.0413 - accuracy: 0.9880\n",
            "Epoch 246/250\n",
            "50/50 [==============================] - 0s 2ms/step - loss: 0.0517 - accuracy: 0.9920\n",
            "Epoch 247/250\n",
            "50/50 [==============================] - 0s 2ms/step - loss: 0.0518 - accuracy: 0.9880\n",
            "Epoch 248/250\n",
            "50/50 [==============================] - 0s 2ms/step - loss: 0.0778 - accuracy: 0.9800\n",
            "Epoch 249/250\n",
            "50/50 [==============================] - 0s 2ms/step - loss: 0.1034 - accuracy: 0.9720\n",
            "Epoch 250/250\n",
            "50/50 [==============================] - 0s 2ms/step - loss: 0.0364 - accuracy: 0.9880\n"
          ]
        }
      ]
    },
    {
      "cell_type": "code",
      "source": [
        "model.save('chatbot_model.h5', history)"
      ],
      "metadata": {
        "id": "4iSOX4oy1pib"
      },
      "execution_count": null,
      "outputs": []
    },
    {
      "cell_type": "code",
      "source": [
        "model = load_model('chatbot_model.h5')"
      ],
      "metadata": {
        "id": "R7NZm15U1rko"
      },
      "execution_count": null,
      "outputs": []
    },
    {
      "cell_type": "code",
      "source": [
        "keywords = pickle.load(open('words.pkl', 'rb'))\n",
        "classes_list = pickle.load(open('classes.pkl', 'rb'))\n",
        "intents_data = json.loads(open('intents.json').read())"
      ],
      "metadata": {
        "id": "ldsQWeHY1tQU"
      },
      "execution_count": null,
      "outputs": []
    },
    {
      "cell_type": "code",
      "source": [
        "def chatbot_response(text):\n",
        "    tokenized_sentence = nltk.word_tokenize(text)\n",
        "    preprocessed_sentence = [lemmatizer.lemmatize(word.lower()) for word in tokenized_sentence]\n",
        "    bag_of_words = [0] * len(keywords)\n",
        "\n",
        "    for token in preprocessed_sentence:\n",
        "        for i, word in enumerate(keywords):\n",
        "            if word == token:\n",
        "                bag_of_words[i] = 1\n",
        "\n",
        "    predictions = model.predict(np.array([bag_of_words]))[0]\n",
        "    ERROR_THRESHOLD = 0.25\n",
        "    results = [[i, prediction] for i, prediction in enumerate(predictions) if prediction > ERROR_THRESHOLD]\n",
        "    results.sort(key=lambda x: x[1], reverse=True)\n",
        "    intent_list = [{\"intent\": classes_list[result[0]], \"probability\": str(result[1])} for result in results]\n",
        "    predicted_intent = intent_list[0]['intent']\n",
        "\n",
        "    for intent_data in intents_data['intents']:\n",
        "        if intent_data['tag'] == predicted_intent:\n",
        "            responses = intent_data['responses']\n",
        "            response = random.choice(responses)\n",
        "            return response\n",
        "\n",
        "    return \"Sorry, I'm not sure how to respond to that.\""
      ],
      "metadata": {
        "id": "01-YnZ9825d2"
      },
      "execution_count": null,
      "outputs": []
    },
    {
      "cell_type": "code",
      "source": [
        "while True:\n",
        "    user_input = input(\"You: \")\n",
        "    if user_input.lower() == 'exit':\n",
        "        break\n",
        "    response = chatbot_response(user_input)\n",
        "    print(\"Chatbot:\", response)\n"
      ],
      "metadata": {
        "colab": {
          "base_uri": "https://localhost:8080/"
        },
        "id": "c0cVtABm2gf9",
        "outputId": "bc992174-8938-483f-8ea0-075dc655fd9a"
      },
      "execution_count": 41,
      "outputs": [
        {
          "name": "stdout",
          "output_type": "stream",
          "text": [
            "You: Hello\n",
            "1/1 [==============================] - 0s 82ms/step\n",
            "Chatbot: Hi there, how can I help?\n",
            "You: exit\n"
          ]
        }
      ]
    }
  ]
}